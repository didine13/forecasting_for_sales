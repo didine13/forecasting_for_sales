{
 "cells": [
  {
   "cell_type": "code",
   "execution_count": 39,
   "id": "90f83e5e",
   "metadata": {},
   "outputs": [],
   "source": [
    "%load_ext autoreload\n",
    "%autoreload 2"
   ]
  },
  {
   "cell_type": "code",
   "execution_count": 2,
   "id": "f5f981ff",
   "metadata": {},
   "outputs": [
    {
     "name": "stdout",
     "output_type": "stream",
     "text": [
      "holidays_events.csv  sample_submission.csv  test.csv   transactions.csv\r\n",
      "oil.csv\t\t     stores.csv\t\t    train.csv\r\n"
     ]
    }
   ],
   "source": [
    "!ls ../raw_data/"
   ]
  },
  {
   "cell_type": "code",
   "execution_count": 66,
   "id": "ba3944c1",
   "metadata": {},
   "outputs": [],
   "source": [
    "import pandas as pd\n",
    "import matplotlib.pyplot as plt\n",
    "import seaborn as sns"
   ]
  },
  {
   "cell_type": "code",
   "execution_count": 5,
   "id": "d0a19cb5",
   "metadata": {},
   "outputs": [],
   "source": [
    "train_data = pd.read_csv('../raw_data/train.csv')\n",
    "test_data = pd.read_csv('../raw_data/test.csv')\n",
    "holiday_data = pd.read_csv('../raw_data/holidays_events.csv')\n",
    "oil_data = pd.read_csv('../raw_data/oil.csv')\n",
    "\n",
    "stores_data = pd.read_csv('../raw_data/stores.csv')\n",
    "transactions_data = pd.read_csv('../raw_data/transactions.csv')"
   ]
  },
  {
   "cell_type": "markdown",
   "id": "7fb39b52",
   "metadata": {},
   "source": [
    "# Train data"
   ]
  },
  {
   "cell_type": "code",
   "execution_count": 58,
   "id": "01cf0183",
   "metadata": {},
   "outputs": [
    {
     "data": {
      "text/plain": [
       "Index(['id', 'date', 'store_nbr', 'family', 'sales', 'onpromotion'], dtype='object')"
      ]
     },
     "execution_count": 58,
     "metadata": {},
     "output_type": "execute_result"
    }
   ],
   "source": [
    "train_data.columns"
   ]
  },
  {
   "cell_type": "code",
   "execution_count": 6,
   "id": "a2582f8c",
   "metadata": {},
   "outputs": [
    {
     "data": {
      "text/html": [
       "<div>\n",
       "<style scoped>\n",
       "    .dataframe tbody tr th:only-of-type {\n",
       "        vertical-align: middle;\n",
       "    }\n",
       "\n",
       "    .dataframe tbody tr th {\n",
       "        vertical-align: top;\n",
       "    }\n",
       "\n",
       "    .dataframe thead th {\n",
       "        text-align: right;\n",
       "    }\n",
       "</style>\n",
       "<table border=\"1\" class=\"dataframe\">\n",
       "  <thead>\n",
       "    <tr style=\"text-align: right;\">\n",
       "      <th></th>\n",
       "      <th>id</th>\n",
       "      <th>date</th>\n",
       "      <th>store_nbr</th>\n",
       "      <th>family</th>\n",
       "      <th>sales</th>\n",
       "      <th>onpromotion</th>\n",
       "    </tr>\n",
       "  </thead>\n",
       "  <tbody>\n",
       "    <tr>\n",
       "      <th>0</th>\n",
       "      <td>0</td>\n",
       "      <td>2013-01-01</td>\n",
       "      <td>1</td>\n",
       "      <td>AUTOMOTIVE</td>\n",
       "      <td>0.0</td>\n",
       "      <td>0</td>\n",
       "    </tr>\n",
       "    <tr>\n",
       "      <th>1</th>\n",
       "      <td>1</td>\n",
       "      <td>2013-01-01</td>\n",
       "      <td>1</td>\n",
       "      <td>BABY CARE</td>\n",
       "      <td>0.0</td>\n",
       "      <td>0</td>\n",
       "    </tr>\n",
       "    <tr>\n",
       "      <th>2</th>\n",
       "      <td>2</td>\n",
       "      <td>2013-01-01</td>\n",
       "      <td>1</td>\n",
       "      <td>BEAUTY</td>\n",
       "      <td>0.0</td>\n",
       "      <td>0</td>\n",
       "    </tr>\n",
       "    <tr>\n",
       "      <th>3</th>\n",
       "      <td>3</td>\n",
       "      <td>2013-01-01</td>\n",
       "      <td>1</td>\n",
       "      <td>BEVERAGES</td>\n",
       "      <td>0.0</td>\n",
       "      <td>0</td>\n",
       "    </tr>\n",
       "    <tr>\n",
       "      <th>4</th>\n",
       "      <td>4</td>\n",
       "      <td>2013-01-01</td>\n",
       "      <td>1</td>\n",
       "      <td>BOOKS</td>\n",
       "      <td>0.0</td>\n",
       "      <td>0</td>\n",
       "    </tr>\n",
       "  </tbody>\n",
       "</table>\n",
       "</div>"
      ],
      "text/plain": [
       "   id        date  store_nbr      family  sales  onpromotion\n",
       "0   0  2013-01-01          1  AUTOMOTIVE    0.0            0\n",
       "1   1  2013-01-01          1   BABY CARE    0.0            0\n",
       "2   2  2013-01-01          1      BEAUTY    0.0            0\n",
       "3   3  2013-01-01          1   BEVERAGES    0.0            0\n",
       "4   4  2013-01-01          1       BOOKS    0.0            0"
      ]
     },
     "execution_count": 6,
     "metadata": {},
     "output_type": "execute_result"
    }
   ],
   "source": [
    "train_data.head()"
   ]
  },
  {
   "cell_type": "code",
   "execution_count": 57,
   "id": "a04e7ad6",
   "metadata": {},
   "outputs": [
    {
     "data": {
      "text/plain": [
       "0               0.000\n",
       "1899470         0.000\n",
       "813143          0.000\n",
       "1899467         0.000\n",
       "1899466         0.000\n",
       "              ...    \n",
       "2153031     63434.000\n",
       "2139699     76090.000\n",
       "2144154     87438.516\n",
       "2445984     89576.360\n",
       "2163723    124717.000\n",
       "Name: sales, Length: 3000888, dtype: float64"
      ]
     },
     "execution_count": 57,
     "metadata": {},
     "output_type": "execute_result"
    }
   ],
   "source": [
    "train_data['sales'].sort_values()"
   ]
  },
  {
   "cell_type": "code",
   "execution_count": 63,
   "id": "6df66b68",
   "metadata": {},
   "outputs": [
    {
     "data": {
      "text/plain": [
       "[<matplotlib.lines.Line2D at 0x7fba0d6ca790>]"
      ]
     },
     "execution_count": 63,
     "metadata": {},
     "output_type": "execute_result"
    },
    {
     "data": {
      "image/png": "[encoded data removed]",
      "text/plain": [
       "<Figure size 432x288 with 1 Axes>"
      ]
     },
     "metadata": {
      "needs_background": "light"
     },
     "output_type": "display_data"
    }
   ],
   "source": [
    "plt.plot(train_data['sales'])"
   ]
  },
  {
   "cell_type": "code",
   "execution_count": 70,
   "id": "f1eb036e",
   "metadata": {},
   "outputs": [
    {
     "data": {
      "text/plain": [
       "[<matplotlib.lines.Line2D at 0x7fb9c263cb50>]"
      ]
     },
     "execution_count": 70,
     "metadata": {},
     "output_type": "execute_result"
    },
    {
     "data": {
      "image/png": "[encoded data removed]",
      "text/plain": [
       "<Figure size 432x288 with 1 Axes>"
      ]
     },
     "metadata": {
      "needs_background": "light"
     },
     "output_type": "display_data"
    }
   ],
   "source": [
    "plt.plot(train_data['sales'], train_data['family'])"
   ]
  },
  {
   "cell_type": "markdown",
   "id": "0acc2ffd",
   "metadata": {},
   "source": [
    "Promotion ? (Value - onpromotion)"
   ]
  },
  {
   "cell_type": "code",
   "execution_count": 55,
   "id": "bc411d49",
   "metadata": {
    "scrolled": true
   },
   "outputs": [
    {
     "data": {
      "text/plain": [
       "array([  0,   3,   5,   1,  56,  20,  19,   2,   4,  18,  17,  12,   6,\n",
       "         7,  10,   9,  50,   8,  16,  42,  51,  13,  15,  47,  21,  40,\n",
       "        37,  54,  24,  58,  22,  59,  11,  45,  25,  55,  26,  43,  35,\n",
       "        14,  28,  46,  36,  32,  53,  57,  27,  39,  41,  30,  29,  49,\n",
       "        23,  48,  44,  38,  31,  52,  33,  34,  61,  60, 116,  86,  73,\n",
       "       113, 102,  68, 104,  93,  70,  92, 121,  72, 178, 174, 161, 118,\n",
       "       105, 172, 163, 167, 142, 154, 133, 180, 181, 173, 165, 168, 186,\n",
       "       140, 149, 145, 169, 188,  62,  84, 111,  65, 107,  63, 101,  87,\n",
       "       125,  94, 114, 171, 153, 170, 166, 141, 155, 179, 192, 131, 147,\n",
       "       151, 189,  79,  74, 110,  64,  67,  99, 123, 157, 117, 150, 182,\n",
       "       162, 160, 194, 135, 190,  69, 108,  89, 126, 156, 103, 146, 132,\n",
       "       177, 164, 176, 112,  75, 109,  91, 128, 175, 187, 148, 137, 184,\n",
       "       196, 144, 158, 119, 106,  66, 100,  90, 120, 115,  98, 159, 152,\n",
       "       185, 139, 143,  80, 124,  71, 134, 193,  78,  88, 122, 130,  81,\n",
       "        97, 138, 191,  76,  96, 198,  82,  95, 195, 183, 199, 200, 201,\n",
       "       197,  77,  83, 136, 205, 204, 202, 129, 206,  85, 209, 211, 207,\n",
       "       208, 203, 210, 127, 213, 212, 218, 216, 217, 214, 222, 220, 223,\n",
       "       229, 225, 228, 224, 231, 215, 233, 230, 235, 227, 221, 226, 219,\n",
       "       289, 245, 609, 261, 322, 276, 710, 511, 326, 281, 718, 551, 304,\n",
       "       639, 489, 299, 243, 630, 476, 655, 446, 286, 633, 435, 302, 644,\n",
       "       470, 332, 259, 702, 520, 300, 241, 668, 510, 237, 626, 507, 317,\n",
       "       624, 474, 240, 672, 306, 600, 383, 293, 258, 646, 444, 333, 279,\n",
       "       717, 342, 720, 547, 305, 642, 452, 313, 252, 664, 481, 277, 307,\n",
       "       264, 684, 479, 255, 657, 441, 312, 269, 716, 528, 320, 285, 726,\n",
       "       536, 283, 628, 469, 464, 677, 420, 247, 629, 424, 290, 473, 294,\n",
       "       722, 485, 297, 282, 719, 543, 253, 254, 678, 496, 275, 741, 512,\n",
       "       236, 234, 244, 239, 238, 242, 232, 249, 250, 251, 391, 539, 411,\n",
       "       486, 407, 330, 697, 246, 467, 263, 591, 248, 519, 425])"
      ]
     },
     "execution_count": 55,
     "metadata": {},
     "output_type": "execute_result"
    }
   ],
   "source": [
    "train_data['onpromotion'].unique()"
   ]
  },
  {
   "cell_type": "code",
   "execution_count": 53,
   "id": "0f88c217",
   "metadata": {},
   "outputs": [
    {
     "data": {
      "text/plain": [
       "id             3000888\n",
       "date           3000888\n",
       "store_nbr      3000888\n",
       "family         3000888\n",
       "sales          3000888\n",
       "onpromotion    3000888\n",
       "dtype: int64"
      ]
     },
     "execution_count": 53,
     "metadata": {},
     "output_type": "execute_result"
    }
   ],
   "source": [
    "train_data.count()"
   ]
  },
  {
   "cell_type": "code",
   "execution_count": 52,
   "id": "762cf91b",
   "metadata": {},
   "outputs": [
    {
     "data": {
      "text/plain": [
       "id             28512\n",
       "date           28512\n",
       "store_nbr      28512\n",
       "family         28512\n",
       "onpromotion    28512\n",
       "dtype: int64"
      ]
     },
     "execution_count": 52,
     "metadata": {},
     "output_type": "execute_result"
    }
   ],
   "source": [
    "test_data.count()"
   ]
  },
  {
   "cell_type": "markdown",
   "id": "d95dfaa8",
   "metadata": {},
   "source": [
    "# Oil data"
   ]
  },
  {
   "cell_type": "code",
   "execution_count": 11,
   "id": "9b01ac3b",
   "metadata": {},
   "outputs": [
    {
     "data": {
      "text/html": [
       "<div>\n",
       "<style scoped>\n",
       "    .dataframe tbody tr th:only-of-type {\n",
       "        vertical-align: middle;\n",
       "    }\n",
       "\n",
       "    .dataframe tbody tr th {\n",
       "        vertical-align: top;\n",
       "    }\n",
       "\n",
       "    .dataframe thead th {\n",
       "        text-align: right;\n",
       "    }\n",
       "</style>\n",
       "<table border=\"1\" class=\"dataframe\">\n",
       "  <thead>\n",
       "    <tr style=\"text-align: right;\">\n",
       "      <th></th>\n",
       "      <th>date</th>\n",
       "      <th>dcoilwtico</th>\n",
       "    </tr>\n",
       "  </thead>\n",
       "  <tbody>\n",
       "    <tr>\n",
       "      <th>0</th>\n",
       "      <td>2013-01-01</td>\n",
       "      <td>NaN</td>\n",
       "    </tr>\n",
       "    <tr>\n",
       "      <th>1</th>\n",
       "      <td>2013-01-02</td>\n",
       "      <td>93.14</td>\n",
       "    </tr>\n",
       "    <tr>\n",
       "      <th>2</th>\n",
       "      <td>2013-01-03</td>\n",
       "      <td>92.97</td>\n",
       "    </tr>\n",
       "    <tr>\n",
       "      <th>3</th>\n",
       "      <td>2013-01-04</td>\n",
       "      <td>93.12</td>\n",
       "    </tr>\n",
       "    <tr>\n",
       "      <th>4</th>\n",
       "      <td>2013-01-07</td>\n",
       "      <td>93.20</td>\n",
       "    </tr>\n",
       "  </tbody>\n",
       "</table>\n",
       "</div>"
      ],
      "text/plain": [
       "         date  dcoilwtico\n",
       "0  2013-01-01         NaN\n",
       "1  2013-01-02       93.14\n",
       "2  2013-01-03       92.97\n",
       "3  2013-01-04       93.12\n",
       "4  2013-01-07       93.20"
      ]
     },
     "execution_count": 11,
     "metadata": {},
     "output_type": "execute_result"
    }
   ],
   "source": [
    "oil_data.head()"
   ]
  },
  {
   "cell_type": "code",
   "execution_count": 34,
   "id": "e099f3f4",
   "metadata": {},
   "outputs": [
    {
     "data": {
      "text/plain": [
       "array([   nan,  93.14,  92.97,  93.12,  93.2 ,  93.21,  93.08,  93.81,\n",
       "        93.6 ,  94.27,  93.26,  94.28,  95.49,  95.61,  96.09,  95.06,\n",
       "        95.35,  95.15,  95.95,  97.62,  97.98,  97.65,  97.46,  96.21,\n",
       "        96.68,  96.44,  95.84,  95.71,  97.01,  97.48,  97.03,  97.3 ,\n",
       "        96.69,  94.92,  92.79,  92.74,  92.63,  92.84,  92.03,  90.71,\n",
       "        90.13,  90.88,  90.47,  91.53,  92.01,  92.07,  92.44,  92.47,\n",
       "        93.03,  93.49,  93.71,  92.46,  93.41,  94.55,  95.99,  96.53,\n",
       "        97.24,  97.1 ,  97.23,  95.02,  92.76,  93.36,  94.18,  94.59,\n",
       "        93.44,  91.23,  88.75,  88.73,  86.65,  87.83,  88.04,  88.81,\n",
       "        89.21,  91.07,  93.27,  94.09,  93.22,  90.74,  93.7 ,  95.25,\n",
       "        95.8 ,  95.28,  96.24,  95.81,  94.76,  93.96,  93.95,  94.85,\n",
       "        95.72,  96.29,  95.55,  93.98,  94.12,  93.84,  94.65,  93.13,\n",
       "        93.57,  91.93,  93.66,  94.71,  96.11,  95.82,  95.5 ,  95.98,\n",
       "        96.66,  97.83,  97.86,  98.46,  98.24,  94.89,  95.07,  95.47,\n",
       "        97.  ,  96.36,  97.94,  99.65, 101.92, 103.09, 103.03, 103.46,\n",
       "       106.41, 104.77, 105.85, 106.2 , 105.88, 106.39, 107.94, 108.  ,\n",
       "       106.61, 107.13, 105.41, 105.47, 104.76, 104.61, 103.14, 105.1 ,\n",
       "       107.93, 106.94, 105.32, 104.41, 103.45, 106.04, 106.19, 106.78,\n",
       "       106.89, 107.43, 107.58, 107.14, 104.9 , 103.93, 104.93, 106.48,\n",
       "       109.11, 110.17, 108.51, 107.98, 108.67, 107.29, 108.5 , 110.62,\n",
       "       109.62, 107.48, 107.65, 108.72, 108.31, 106.54, 105.36, 108.23,\n",
       "       106.26, 104.7 , 103.62, 103.22, 102.68, 103.1 , 102.86, 102.36,\n",
       "       102.09, 104.15, 103.29, 103.83, 103.07, 103.54, 101.63, 103.08,\n",
       "       102.17, 102.46, 101.15, 102.34, 100.72, 100.87,  99.28,  97.63,\n",
       "        96.9 ,  96.65,  97.4 ,  98.74,  98.29,  96.81,  94.56,  94.58,\n",
       "        93.4 ,  94.74,  94.25,  95.13,  93.91,  93.76,  93.8 ,  93.35,\n",
       "        93.34,  94.53,  93.86,  92.05,  92.55,  93.61,  95.83,  96.97,\n",
       "        97.14,  98.32,  97.25,  97.21,  96.27,  97.18,  96.99,  97.59,\n",
       "        98.4 ,  99.11,  98.62,  98.87,  99.18,  99.94,  98.9 ,  98.17,\n",
       "        95.14,  93.31,  91.9 ,  91.36,  92.39,  91.45,  92.15,  93.78,\n",
       "        93.54,  94.51,  96.35,  97.49,  97.34,  98.25,  97.55,  97.84,\n",
       "        99.98, 100.12,  99.96, 100.38, 100.27, 100.31, 102.54, 103.2 ,\n",
       "       102.53, 103.17, 102.2 , 102.93, 102.88, 105.34, 103.64, 101.75,\n",
       "       101.82, 102.82, 101.39, 100.29,  98.57,  99.23,  98.43, 100.08,\n",
       "       100.71,  99.68,  99.97, 100.05,  99.66, 100.61, 101.25, 101.73,\n",
       "       101.57,  99.69,  99.6 , 101.16, 100.43, 102.57, 103.55, 103.37,\n",
       "       103.68, 104.05, 103.7 , 103.71, 104.33, 104.35, 101.69, 101.47,\n",
       "       100.85, 101.13, 101.56, 100.07, 100.09,  99.74,  99.81, 101.06,\n",
       "       100.52, 100.32, 100.89, 102.01, 102.63, 101.74, 102.31, 102.95,\n",
       "       102.8 , 104.31, 104.03, 105.01, 104.78, 104.26, 103.4 , 103.34,\n",
       "       103.27, 103.32, 105.09, 105.02, 105.04, 107.2 , 107.49, 107.52,\n",
       "       106.95, 106.64, 107.08, 107.95, 106.83, 107.04, 106.49, 106.46,\n",
       "       106.07, 106.06, 105.18, 104.19, 104.06, 103.61, 101.48, 100.56,\n",
       "       101.88, 103.84, 104.59, 103.81, 102.76, 105.23, 105.68, 104.91,\n",
       "       104.29,  98.23,  98.26,  96.93,  97.61,  98.09,  97.36,  97.57,\n",
       "        95.54,  94.35,  96.4 ,  93.97,  95.39,  95.78,  92.92,  93.32,\n",
       "        92.64,  92.73,  91.71,  92.89,  92.18,  92.86,  94.91,  94.33,\n",
       "        93.07,  92.43,  91.46,  91.55,  93.59,  91.17,  91.02,  89.76,\n",
       "        90.33,  88.89,  87.29,  85.76,  85.87,  85.73,  81.72,  81.82,\n",
       "        82.33,  82.8 ,  82.76,  83.25,  80.52,  82.81,  81.27,  81.26,\n",
       "        81.36,  82.25,  81.06,  80.53,  78.77,  77.15,  78.71,  77.87,\n",
       "        77.43,  77.85,  77.16,  74.13,  75.91,  75.64,  74.55,  75.63,\n",
       "        76.52,  75.74,  74.04,  73.7 ,  65.94,  68.98,  66.99,  67.3 ,\n",
       "        66.73,  65.89,  63.13,  63.74,  60.99,  60.01,  57.81,  55.96,\n",
       "        55.97,  56.43,  54.18,  56.91,  55.25,  56.78,  55.7 ,  54.59,\n",
       "        53.46,  54.14,  53.45,  52.72,  50.05,  47.98,  48.69,  48.8 ,\n",
       "        48.35,  46.06,  45.92,  48.49,  46.37,  46.79,  47.85,  45.93,\n",
       "        45.26,  44.8 ,  45.84,  44.08,  44.12,  47.79,  49.25,  53.04,\n",
       "        48.45,  50.48,  51.66,  52.99,  50.06,  51.17,  52.66,  53.56,\n",
       "        52.13,  51.12,  49.95,  49.56,  48.48,  50.25,  47.65,  49.84,\n",
       "        49.59,  50.43,  51.53,  50.76,  49.61,  48.42,  48.06,  47.12,\n",
       "        44.88,  43.93,  43.39,  44.63,  44.02,  46.  ,  47.4 ,  47.03,\n",
       "        48.75,  51.41,  48.83,  48.66,  47.72,  50.12,  49.13,  52.08,\n",
       "        53.95,  50.44,  50.79,  51.63,  51.95,  53.3 ,  56.25,  56.69,\n",
       "        55.71,  56.37,  55.58,  56.17,  56.59,  55.98,  55.56,  57.05,\n",
       "        58.55,  59.62,  59.1 ,  58.92,  60.38,  60.93,  58.99,  59.41,\n",
       "        59.23,  60.72,  60.5 ,  59.89,  59.73,  59.44,  57.3 ,  58.96,\n",
       "        60.18,  58.88,  57.29,  57.51,  57.69,  60.25,  60.24,  61.3 ,\n",
       "        59.67,  58.  ,  59.11,  58.15,  60.15,  61.36,  60.74,  59.96,\n",
       "        59.53,  60.41,  61.05,  59.59,  58.34,  59.48,  56.94,  56.93,\n",
       "        52.48,  52.33,  51.61,  52.76,  52.74,  52.19,  53.05,  51.4 ,\n",
       "        50.9 ,  50.88,  50.11,  50.59,  49.27,  48.11,  47.17,  47.97,\n",
       "        48.77,  48.53,  47.11,  45.25,  45.75,  45.13,  44.69,  43.87,\n",
       "        44.94,  43.11,  43.22,  42.27,  42.45,  41.93,  42.58,  40.75,\n",
       "        41.  ,  40.45,  38.22,  39.15,  38.5 ,  42.47,  45.29,  49.2 ,\n",
       "        45.38,  46.3 ,  46.75,  46.02,  44.13,  45.85,  44.75,  44.07,\n",
       "        44.58,  46.93,  44.71,  46.67,  46.17,  44.53,  45.55,  44.4 ,\n",
       "        45.24,  45.06,  45.54,  46.28,  47.86,  49.46,  49.67,  47.09,\n",
       "        46.7 ,  46.63,  46.38,  47.3 ,  45.91,  45.22,  44.9 ,  43.91,\n",
       "        43.19,  43.21,  46.6 ,  46.12,  47.88,  46.32,  45.27,  44.32,\n",
       "        44.23,  42.95,  41.74,  40.69,  41.68,  40.73,  40.55,  39.39,\n",
       "        39.27,  40.89,  41.22,  40.57,  40.43,  40.58,  39.93,  41.08,\n",
       "        40.  ,  37.64,  37.46,  37.16,  36.76,  35.65,  36.31,  37.32,\n",
       "        35.55,  34.98,  34.72,  34.55,  36.12,  37.62,  36.36,  37.88,\n",
       "        36.59,  37.13,  36.81,  35.97,  33.97,  33.29,  33.2 ,  31.42,\n",
       "        30.42,  31.22,  29.45,  28.47,  26.68,  29.55,  32.07,  30.31,\n",
       "        29.54,  32.32,  33.21,  33.66,  31.62,  29.9 ,  32.29,  31.63,\n",
       "        30.86,  29.71,  27.96,  27.54,  26.19,  29.32,  29.05,  30.68,\n",
       "        30.77,  29.59,  31.37,  31.84,  30.35,  31.4 ,  31.65,  32.74,\n",
       "        34.39,  34.57,  34.56,  35.91,  37.9 ,  36.67,  37.77,  38.51,\n",
       "        37.2 ,  36.32,  38.43,  40.17,  39.47,  39.91,  41.45,  38.28,\n",
       "        38.14,  37.99,  36.91,  36.94,  35.36,  34.3 ,  34.52,  37.74,\n",
       "        37.3 ,  39.74,  40.46,  42.12,  41.7 ,  40.4 ,  40.88,  42.72,\n",
       "        43.18,  42.76,  41.67,  42.52,  46.03,  45.98,  43.65,  43.77,\n",
       "        44.33,  43.45,  44.68,  46.21,  46.64,  46.22,  48.29,  48.12,\n",
       "        48.16,  47.67,  48.04,  49.1 ,  49.  ,  49.36,  49.07,  49.14,\n",
       "        49.71,  50.37,  51.23,  50.52,  49.09,  48.89,  47.92,  46.14,\n",
       "        48.  ,  49.4 ,  48.95,  49.16,  49.34,  45.8 ,  47.93,  49.85,\n",
       "        48.27,  49.02,  46.73,  47.37,  45.37,  44.73,  46.82,  44.87,\n",
       "        45.64,  45.23,  44.64,  44.96,  43.96,  43.41,  42.4 ,  42.16,\n",
       "        41.9 ,  41.13,  41.54,  40.05,  39.5 ,  40.8 ,  41.92,  41.83,\n",
       "        43.06,  42.78,  41.75,  43.51,  44.47,  45.72,  46.57,  46.81,\n",
       "        48.2 ,  46.8 ,  47.54,  46.29,  46.97,  47.64,  43.17,  44.39,\n",
       "        44.85,  45.47,  47.63,  45.88,  44.91,  43.62,  43.85,  43.04,\n",
       "        43.34,  45.33,  46.1 ,  44.36,  45.6 ,  44.65,  47.07,  48.67,\n",
       "        49.75,  49.76,  50.72,  50.14,  50.47,  50.35,  49.97,  50.3 ,\n",
       "        51.59,  50.31,  50.61,  50.18,  49.45,  48.72,  46.83,  46.66,\n",
       "        45.32,  44.66,  45.2 ,  44.62,  43.29,  45.86,  45.56,  45.69,\n",
       "        47.48,  48.07,  46.72,  45.66,  49.41,  51.08,  51.7 ,  51.72,\n",
       "        50.95,  50.84,  51.51,  51.01,  51.93,  52.22,  51.44,  51.98,\n",
       "        52.01,  52.82,  54.01,  53.8 ,  53.75,  52.36,  53.26,  53.77,\n",
       "        53.98,  50.82,  53.01,  52.45,  51.39,  52.77,  52.38,  52.14,\n",
       "        53.24,  53.18,  52.63,  52.75,  53.9 ,  53.55,  53.81,  52.37,\n",
       "        53.84,  52.96,  53.21,  53.11,  53.41,  54.02,  53.61,  54.48,\n",
       "        53.99,  54.04,  54.  ,  53.82,  53.33,  53.19,  52.68,  49.83,\n",
       "        48.05,  47.95,  47.24,  48.34,  48.3 ,  47.02,  47.29,  47.  ,\n",
       "        48.36,  49.47,  50.54,  50.99,  51.14,  51.69,  52.25,  53.06,\n",
       "        53.38,  53.12,  52.62,  52.46,  50.49,  50.26,  49.64,  48.9 ,\n",
       "        49.22,  48.96,  49.31,  46.23,  46.46,  47.28,  47.81,  47.83,\n",
       "        48.86,  48.64,  49.04,  50.32,  50.81,  48.57,  49.58,  49.63,\n",
       "        48.32,  47.68,  48.13,  45.68,  45.82,  46.41,  44.79,  44.24,\n",
       "        42.48,  42.53,  42.86,  43.24,  44.25,  44.74,  45.11,  45.52,\n",
       "        45.48,  46.53,  46.4 ,  47.1 ,  45.78,  47.77,  48.58,  49.05,\n",
       "        49.72,  50.21,  49.19,  49.6 ,  49.03,  49.57,  49.37,  48.54,\n",
       "        48.81,  47.59,  47.57,  48.59,  47.39,  45.96,  47.26])"
      ]
     },
     "execution_count": 34,
     "metadata": {},
     "output_type": "execute_result"
    }
   ],
   "source": [
    "oil_data['dcoilwtico'].unique()"
   ]
  },
  {
   "cell_type": "markdown",
   "id": "5e3a8d09",
   "metadata": {},
   "source": [
    "Date is a object (Convert datetime)"
   ]
  },
  {
   "cell_type": "code",
   "execution_count": 49,
   "id": "113966fb",
   "metadata": {},
   "outputs": [
    {
     "name": "stdout",
     "output_type": "stream",
     "text": [
      "<class 'pandas.core.frame.DataFrame'>\n",
      "RangeIndex: 1218 entries, 0 to 1217\n",
      "Data columns (total 2 columns):\n",
      " #   Column      Non-Null Count  Dtype  \n",
      "---  ------      --------------  -----  \n",
      " 0   date        1218 non-null   object \n",
      " 1   dcoilwtico  1175 non-null   float64\n",
      "dtypes: float64(1), object(1)\n",
      "memory usage: 19.2+ KB\n"
     ]
    }
   ],
   "source": [
    "oil_data.info()"
   ]
  },
  {
   "cell_type": "markdown",
   "id": "54463a61",
   "metadata": {},
   "source": [
    "# Holiday data"
   ]
  },
  {
   "cell_type": "code",
   "execution_count": 9,
   "id": "69c282fb",
   "metadata": {},
   "outputs": [
    {
     "data": {
      "text/html": [
       "<div>\n",
       "<style scoped>\n",
       "    .dataframe tbody tr th:only-of-type {\n",
       "        vertical-align: middle;\n",
       "    }\n",
       "\n",
       "    .dataframe tbody tr th {\n",
       "        vertical-align: top;\n",
       "    }\n",
       "\n",
       "    .dataframe thead th {\n",
       "        text-align: right;\n",
       "    }\n",
       "</style>\n",
       "<table border=\"1\" class=\"dataframe\">\n",
       "  <thead>\n",
       "    <tr style=\"text-align: right;\">\n",
       "      <th></th>\n",
       "      <th>date</th>\n",
       "      <th>type</th>\n",
       "      <th>locale</th>\n",
       "      <th>locale_name</th>\n",
       "      <th>description</th>\n",
       "      <th>transferred</th>\n",
       "    </tr>\n",
       "  </thead>\n",
       "  <tbody>\n",
       "    <tr>\n",
       "      <th>0</th>\n",
       "      <td>2012-03-02</td>\n",
       "      <td>Holiday</td>\n",
       "      <td>Local</td>\n",
       "      <td>Manta</td>\n",
       "      <td>Fundacion de Manta</td>\n",
       "      <td>False</td>\n",
       "    </tr>\n",
       "    <tr>\n",
       "      <th>1</th>\n",
       "      <td>2012-04-01</td>\n",
       "      <td>Holiday</td>\n",
       "      <td>Regional</td>\n",
       "      <td>Cotopaxi</td>\n",
       "      <td>Provincializacion de Cotopaxi</td>\n",
       "      <td>False</td>\n",
       "    </tr>\n",
       "    <tr>\n",
       "      <th>2</th>\n",
       "      <td>2012-04-12</td>\n",
       "      <td>Holiday</td>\n",
       "      <td>Local</td>\n",
       "      <td>Cuenca</td>\n",
       "      <td>Fundacion de Cuenca</td>\n",
       "      <td>False</td>\n",
       "    </tr>\n",
       "    <tr>\n",
       "      <th>3</th>\n",
       "      <td>2012-04-14</td>\n",
       "      <td>Holiday</td>\n",
       "      <td>Local</td>\n",
       "      <td>Libertad</td>\n",
       "      <td>Cantonizacion de Libertad</td>\n",
       "      <td>False</td>\n",
       "    </tr>\n",
       "    <tr>\n",
       "      <th>4</th>\n",
       "      <td>2012-04-21</td>\n",
       "      <td>Holiday</td>\n",
       "      <td>Local</td>\n",
       "      <td>Riobamba</td>\n",
       "      <td>Cantonizacion de Riobamba</td>\n",
       "      <td>False</td>\n",
       "    </tr>\n",
       "  </tbody>\n",
       "</table>\n",
       "</div>"
      ],
      "text/plain": [
       "         date     type    locale locale_name                    description  \\\n",
       "0  2012-03-02  Holiday     Local       Manta             Fundacion de Manta   \n",
       "1  2012-04-01  Holiday  Regional    Cotopaxi  Provincializacion de Cotopaxi   \n",
       "2  2012-04-12  Holiday     Local      Cuenca            Fundacion de Cuenca   \n",
       "3  2012-04-14  Holiday     Local    Libertad      Cantonizacion de Libertad   \n",
       "4  2012-04-21  Holiday     Local    Riobamba      Cantonizacion de Riobamba   \n",
       "\n",
       "   transferred  \n",
       "0        False  \n",
       "1        False  \n",
       "2        False  \n",
       "3        False  \n",
       "4        False  "
      ]
     },
     "execution_count": 9,
     "metadata": {},
     "output_type": "execute_result"
    }
   ],
   "source": [
    "holiday_data.head()"
   ]
  },
  {
   "cell_type": "markdown",
   "id": "8264ffd4",
   "metadata": {},
   "source": [
    "Type of holiday (Categorical)"
   ]
  },
  {
   "cell_type": "code",
   "execution_count": 33,
   "id": "aac4c85e",
   "metadata": {
    "scrolled": true
   },
   "outputs": [
    {
     "data": {
      "text/plain": [
       "array(['Holiday', 'Transfer', 'Additional', 'Bridge', 'Work Day', 'Event'],\n",
       "      dtype=object)"
      ]
     },
     "execution_count": 33,
     "metadata": {},
     "output_type": "execute_result"
    }
   ],
   "source": [
    "holiday_data['type'].unique()"
   ]
  },
  {
   "cell_type": "markdown",
   "id": "08c77aa8",
   "metadata": {},
   "source": [
    "Type of locale"
   ]
  },
  {
   "cell_type": "code",
   "execution_count": 36,
   "id": "b1e3b870",
   "metadata": {},
   "outputs": [
    {
     "data": {
      "text/plain": [
       "array(['Local', 'Regional', 'National'], dtype=object)"
      ]
     },
     "execution_count": 36,
     "metadata": {},
     "output_type": "execute_result"
    }
   ],
   "source": [
    "holiday_data['locale'].unique()"
   ]
  },
  {
   "cell_type": "markdown",
   "id": "0a30495e",
   "metadata": {},
   "source": [
    "Date is an object (Convert datetime)"
   ]
  },
  {
   "cell_type": "code",
   "execution_count": 48,
   "id": "c105fd89",
   "metadata": {},
   "outputs": [
    {
     "name": "stdout",
     "output_type": "stream",
     "text": [
      "<class 'pandas.core.frame.DataFrame'>\n",
      "RangeIndex: 350 entries, 0 to 349\n",
      "Data columns (total 6 columns):\n",
      " #   Column       Non-Null Count  Dtype \n",
      "---  ------       --------------  ----- \n",
      " 0   date         350 non-null    object\n",
      " 1   type         350 non-null    object\n",
      " 2   locale       350 non-null    object\n",
      " 3   locale_name  350 non-null    object\n",
      " 4   description  350 non-null    object\n",
      " 5   transferred  350 non-null    bool  \n",
      "dtypes: bool(1), object(5)\n",
      "memory usage: 14.1+ KB\n"
     ]
    }
   ],
   "source": [
    "holiday_data.info()"
   ]
  },
  {
   "cell_type": "markdown",
   "id": "666c96e3",
   "metadata": {},
   "source": [
    "# Stores data"
   ]
  },
  {
   "cell_type": "code",
   "execution_count": 13,
   "id": "1ea7a4c0",
   "metadata": {},
   "outputs": [
    {
     "data": {
      "text/html": [
       "<div>\n",
       "<style scoped>\n",
       "    .dataframe tbody tr th:only-of-type {\n",
       "        vertical-align: middle;\n",
       "    }\n",
       "\n",
       "    .dataframe tbody tr th {\n",
       "        vertical-align: top;\n",
       "    }\n",
       "\n",
       "    .dataframe thead th {\n",
       "        text-align: right;\n",
       "    }\n",
       "</style>\n",
       "<table border=\"1\" class=\"dataframe\">\n",
       "  <thead>\n",
       "    <tr style=\"text-align: right;\">\n",
       "      <th></th>\n",
       "      <th>store_nbr</th>\n",
       "      <th>city</th>\n",
       "      <th>state</th>\n",
       "      <th>type</th>\n",
       "      <th>cluster</th>\n",
       "    </tr>\n",
       "  </thead>\n",
       "  <tbody>\n",
       "    <tr>\n",
       "      <th>0</th>\n",
       "      <td>1</td>\n",
       "      <td>Quito</td>\n",
       "      <td>Pichincha</td>\n",
       "      <td>D</td>\n",
       "      <td>13</td>\n",
       "    </tr>\n",
       "    <tr>\n",
       "      <th>1</th>\n",
       "      <td>2</td>\n",
       "      <td>Quito</td>\n",
       "      <td>Pichincha</td>\n",
       "      <td>D</td>\n",
       "      <td>13</td>\n",
       "    </tr>\n",
       "    <tr>\n",
       "      <th>2</th>\n",
       "      <td>3</td>\n",
       "      <td>Quito</td>\n",
       "      <td>Pichincha</td>\n",
       "      <td>D</td>\n",
       "      <td>8</td>\n",
       "    </tr>\n",
       "    <tr>\n",
       "      <th>3</th>\n",
       "      <td>4</td>\n",
       "      <td>Quito</td>\n",
       "      <td>Pichincha</td>\n",
       "      <td>D</td>\n",
       "      <td>9</td>\n",
       "    </tr>\n",
       "    <tr>\n",
       "      <th>4</th>\n",
       "      <td>5</td>\n",
       "      <td>Santo Domingo</td>\n",
       "      <td>Santo Domingo de los Tsachilas</td>\n",
       "      <td>D</td>\n",
       "      <td>4</td>\n",
       "    </tr>\n",
       "  </tbody>\n",
       "</table>\n",
       "</div>"
      ],
      "text/plain": [
       "   store_nbr           city                           state type  cluster\n",
       "0          1          Quito                       Pichincha    D       13\n",
       "1          2          Quito                       Pichincha    D       13\n",
       "2          3          Quito                       Pichincha    D        8\n",
       "3          4          Quito                       Pichincha    D        9\n",
       "4          5  Santo Domingo  Santo Domingo de los Tsachilas    D        4"
      ]
     },
     "execution_count": 13,
     "metadata": {},
     "output_type": "execute_result"
    }
   ],
   "source": [
    "stores_data.head()"
   ]
  },
  {
   "cell_type": "markdown",
   "id": "353bf003",
   "metadata": {},
   "source": [
    "Type (Categorical)"
   ]
  },
  {
   "cell_type": "code",
   "execution_count": 35,
   "id": "315908fd",
   "metadata": {
    "scrolled": true
   },
   "outputs": [
    {
     "data": {
      "text/plain": [
       "array(['D', 'B', 'C', 'E', 'A'], dtype=object)"
      ]
     },
     "execution_count": 35,
     "metadata": {},
     "output_type": "execute_result"
    }
   ],
   "source": [
    "stores_data['type'].unique()"
   ]
  },
  {
   "cell_type": "markdown",
   "id": "120946b1",
   "metadata": {},
   "source": [
    "we have 54 stores in total"
   ]
  },
  {
   "cell_type": "code",
   "execution_count": 14,
   "id": "b66c64d9",
   "metadata": {},
   "outputs": [
    {
     "data": {
      "text/plain": [
       "store_nbr    54\n",
       "city         54\n",
       "state        54\n",
       "type         54\n",
       "cluster      54\n",
       "dtype: int64"
      ]
     },
     "execution_count": 14,
     "metadata": {},
     "output_type": "execute_result"
    }
   ],
   "source": [
    "stores_data.count()"
   ]
  },
  {
   "cell_type": "markdown",
   "id": "528e87d2",
   "metadata": {},
   "source": [
    "# Transactions data"
   ]
  },
  {
   "cell_type": "code",
   "execution_count": 42,
   "id": "e008d7dd",
   "metadata": {},
   "outputs": [
    {
     "data": {
      "text/html": [
       "<div>\n",
       "<style scoped>\n",
       "    .dataframe tbody tr th:only-of-type {\n",
       "        vertical-align: middle;\n",
       "    }\n",
       "\n",
       "    .dataframe tbody tr th {\n",
       "        vertical-align: top;\n",
       "    }\n",
       "\n",
       "    .dataframe thead th {\n",
       "        text-align: right;\n",
       "    }\n",
       "</style>\n",
       "<table border=\"1\" class=\"dataframe\">\n",
       "  <thead>\n",
       "    <tr style=\"text-align: right;\">\n",
       "      <th></th>\n",
       "      <th>date</th>\n",
       "      <th>store_nbr</th>\n",
       "      <th>transactions</th>\n",
       "    </tr>\n",
       "  </thead>\n",
       "  <tbody>\n",
       "    <tr>\n",
       "      <th>0</th>\n",
       "      <td>2013-01-01</td>\n",
       "      <td>25</td>\n",
       "      <td>770</td>\n",
       "    </tr>\n",
       "    <tr>\n",
       "      <th>1</th>\n",
       "      <td>2013-01-02</td>\n",
       "      <td>1</td>\n",
       "      <td>2111</td>\n",
       "    </tr>\n",
       "    <tr>\n",
       "      <th>2</th>\n",
       "      <td>2013-01-02</td>\n",
       "      <td>2</td>\n",
       "      <td>2358</td>\n",
       "    </tr>\n",
       "    <tr>\n",
       "      <th>3</th>\n",
       "      <td>2013-01-02</td>\n",
       "      <td>3</td>\n",
       "      <td>3487</td>\n",
       "    </tr>\n",
       "    <tr>\n",
       "      <th>4</th>\n",
       "      <td>2013-01-02</td>\n",
       "      <td>4</td>\n",
       "      <td>1922</td>\n",
       "    </tr>\n",
       "  </tbody>\n",
       "</table>\n",
       "</div>"
      ],
      "text/plain": [
       "         date  store_nbr  transactions\n",
       "0  2013-01-01         25           770\n",
       "1  2013-01-02          1          2111\n",
       "2  2013-01-02          2          2358\n",
       "3  2013-01-02          3          3487\n",
       "4  2013-01-02          4          1922"
      ]
     },
     "execution_count": 42,
     "metadata": {},
     "output_type": "execute_result"
    }
   ],
   "source": [
    "transactions_data.head()"
   ]
  },
  {
   "cell_type": "markdown",
   "id": "ce85022a",
   "metadata": {},
   "source": [
    "Date is an object (Convert datetime)"
   ]
  },
  {
   "cell_type": "code",
   "execution_count": 71,
   "id": "abcf6ea3",
   "metadata": {},
   "outputs": [
    {
     "name": "stdout",
     "output_type": "stream",
     "text": [
      "<class 'pandas.core.frame.DataFrame'>\n",
      "RangeIndex: 83488 entries, 0 to 83487\n",
      "Data columns (total 3 columns):\n",
      " #   Column        Non-Null Count  Dtype \n",
      "---  ------        --------------  ----- \n",
      " 0   date          83488 non-null  object\n",
      " 1   store_nbr     83488 non-null  int64 \n",
      " 2   transactions  83488 non-null  int64 \n",
      "dtypes: int64(2), object(1)\n",
      "memory usage: 1.9+ MB\n"
     ]
    }
   ],
   "source": [
    "transactions_data.info()"
   ]
  }
 ],
 "metadata": {
  "kernelspec": {
   "display_name": "Python 3 (ipykernel)",
   "language": "python",
   "name": "python3"
  },
  "language_info": {
   "codemirror_mode": {
    "name": "ipython",
    "version": 3
   },
   "file_extension": ".py",
   "mimetype": "text/x-python",
   "name": "python",
   "nbconvert_exporter": "python",
   "pygments_lexer": "ipython3",
   "version": "3.8.12"
  },
  "toc": {
   "base_numbering": 1,
   "nav_menu": {},
   "number_sections": true,
   "sideBar": true,
   "skip_h1_title": false,
   "title_cell": "Table of Contents",
   "title_sidebar": "Contents",
   "toc_cell": false,
   "toc_position": {},
   "toc_section_display": true,
   "toc_window_display": false
  }
 },
 "nbformat": 4,
 "nbformat_minor": 5
}
